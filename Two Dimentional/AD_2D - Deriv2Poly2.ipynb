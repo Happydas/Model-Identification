{
 "cells": [
  {
   "cell_type": "code",
   "execution_count": 1,
   "metadata": {
    "pycharm": {
     "is_executing": false
    }
   },
   "outputs": [],
   "source": [
    "import os\n",
    "import numpy as np\n",
    "import pandas as pd \n",
    "import scipy.io as sio\n",
    "import matplotlib.pyplot as plt\n",
    "import torch\n",
    "import tensorflow as tf\n",
    "\n",
    "from torch.autograd import grad\n",
    "from torch.optim import Adam\n",
    "from torch.utils.data import Dataset, DataLoader\n",
    "from torch.optim.lr_scheduler import ExponentialLR\n",
    "\n",
    "from pdefind import *\n",
    "from Model_Identification.PDE_Equation import pde_matrix_mul, sparse_coeff, normalized_xi_threshold, pde_Recover\n",
    "from Model_Identification.build_Library import construct_Dictonary_2D\n"
   ]
  },
  {
   "cell_type": "code",
   "execution_count": 2,
   "metadata": {
    "pycharm": {
     "is_executing": false
    }
   },
   "outputs": [
    {
     "name": "stdout",
     "output_type": "stream",
     "text": [
      "u.shape (634644, 1)\n",
      "u.shape (51, 51, 61)\n",
      "x.shape (51, 51, 61)\n",
      "t.shape (51, 51, 61)\n",
      "y.shape (51, 51, 61)\n",
      "(51, 51)\n"
     ]
    }
   ],
   "source": [
    "# Prepare dataset\n",
    "data = sio.loadmat(os.path.join(os.getcwd(), \"../data\", \"Advection_diffusion.mat\"))\n",
    "usol = np.real(data['Expression1'])\n",
    "print('u.shape', usol.shape)\n",
    "usol= usol.reshape((51,51,61,4))\n",
    "#u = data[\"usol\"]\n",
    "x = usol[:,:,:,0]\n",
    "y = usol[:,:,:,1]\n",
    "t = usol[:,:,:,2]\n",
    "u = usol[:,:,:,3]\n",
    "print('u.shape', u.shape)\n",
    "print('x.shape', x.shape)\n",
    "print('t.shape', t.shape)\n",
    "print('y.shape', y.shape)\n",
    "print(x[:,:,10].shape)\n"
   ]
  },
  {
   "cell_type": "code",
   "execution_count": 3,
   "metadata": {},
   "outputs": [
    {
     "data": {
      "image/png": "[encoded data removed]",
      "text/plain": [
       "<Figure size 432x288 with 2 Axes>"
      ]
     },
     "metadata": {
      "needs_background": "light"
     },
     "output_type": "display_data"
    }
   ],
   "source": [
    "fig, ax = plt.subplots()\n",
    "\n",
    "im = ax.contourf(x[:,:,10], y[:,:,10], u[:,:,10], cmap='seismic')\n",
    "ax.set_xlabel('x')\n",
    "ax.set_ylabel('y')\n",
    "\n",
    "fig.colorbar(mappable=im)\n",
    "\n",
    "plt.show()"
   ]
  },
  {
   "cell_type": "code",
   "execution_count": 4,
   "metadata": {
    "pycharm": {
     "is_executing": false
    }
   },
   "outputs": [
    {
     "name": "stdout",
     "output_type": "stream",
     "text": [
      "(158661, 3) (158661, 1)\n",
      "X: [[ 3.  -5.  -5. ]\n",
      " [ 3.1 -5.  -5. ]\n",
      " [ 3.2 -5.  -5. ]\n",
      " ...\n",
      " [ 8.8  5.   5. ]\n",
      " [ 8.9  5.   5. ]\n",
      " [ 9.   5.   5. ]]\n"
     ]
    }
   ],
   "source": [
    "X = np.transpose((t.flatten(),x.flatten(), y.flatten()))\n",
    "Y = u.reshape((u.size, 1))\n",
    "print(X.shape, Y.shape)\n",
    "print('X:', X)"
   ]
  },
  {
   "cell_type": "code",
   "execution_count": 5,
   "metadata": {
    "pycharm": {
     "is_executing": false
    }
   },
   "outputs": [],
   "source": [
    "# Add noise\n",
    "np.random.seed(0)\n",
    "noise_level = 0.01\n",
    "y = Y + noise_level * np.std(Y) * np.random.randn(Y.size, 1)\n",
    "\n"
   ]
  },
  {
   "cell_type": "code",
   "execution_count": 6,
   "metadata": {
    "pycharm": {
     "is_executing": false
    }
   },
   "outputs": [
    {
     "name": "stdout",
     "output_type": "stream",
     "text": [
      "X_train shape torch.Size([2000, 3])\n",
      "y_train shape torch.Size([2000, 1])\n"
     ]
    }
   ],
   "source": [
    "idxs = np.random.choice(y.size, 2000, replace=False)\n",
    "\n",
    "X_train = torch.tensor(X[idxs], dtype=torch.float32, requires_grad=True)\n",
    "y_train = torch.tensor(y[idxs], dtype=torch.float32)\n",
    "print(\"X_train shape\", X_train.shape)\n",
    "print(\"y_train shape\", y_train.shape)"
   ]
  },
  {
   "cell_type": "code",
   "execution_count": 7,
   "metadata": {
    "pycharm": {
     "is_executing": false
    }
   },
   "outputs": [
    {
     "name": "stdout",
     "output_type": "stream",
     "text": [
      "PINN(\n",
      "  (net): Sequential(\n",
      "    (0): Linear(in_features=3, out_features=20, bias=True)\n",
      "    (1): Tanh()\n",
      "    (2): Linear(in_features=20, out_features=20, bias=True)\n",
      "    (3): Tanh()\n",
      "    (4): Linear(in_features=20, out_features=20, bias=True)\n",
      "    (5): Tanh()\n",
      "    (6): Linear(in_features=20, out_features=20, bias=True)\n",
      "    (7): Tanh()\n",
      "    (8): Linear(in_features=20, out_features=20, bias=True)\n",
      "    (9): Tanh()\n",
      "    (10): Linear(in_features=20, out_features=1, bias=True)\n",
      "  )\n",
      ")\n"
     ]
    }
   ],
   "source": [
    "# Setup Network\n",
    "net = PINN(sizes=[3,20,20,20,20,20,1], activation=torch.nn.Tanh())\n",
    "print(net)"
   ]
  },
  {
   "cell_type": "code",
   "execution_count": 8,
   "metadata": {
    "pycharm": {
     "is_executing": false
    }
   },
   "outputs": [
    {
     "name": "stdout",
     "output_type": "stream",
     "text": [
      "library_coeffs: ['1', 'u_{x}', 'u_{y}', 'u_{xx}', 'u_{yy}', 'u_{xy}', 'u', 'uu_{x}', 'uu_{y}', 'uu_{xx}', 'uu_{yy}', 'uu_{xy}', 'uˆ2', 'uˆ2u_{x}', 'uˆ2u_{y}', 'uˆ2u_{xx}', 'uˆ2u_{yy}', 'uˆ2u_{xy}']\n",
      "tot_items: 18\n"
     ]
    }
   ],
   "source": [
    "polynm = ['1', 'u', 'uˆ2']\n",
    "#polynm = ['1', 'u', 'uˆ2', 'uˆ3']\n",
    "spa_der = ['1', 'u_{x}', 'u_{y}','u_{xx}', 'u_{yy}','u_{xy}']\n",
    "library_coeffs = pde_matrix_mul(polynm, spa_der)\n",
    "print('library_coeffs:', library_coeffs)\n",
    "\n",
    "tot_items = len(library_coeffs)\n",
    "print('tot_items:', tot_items)\n",
    "\n",
    "epochs = 10000\n",
    "\n",
    "xi = nn.Parameter(torch.randn((tot_items, 1), requires_grad=True, device=\"cpu\", dtype=torch.float32))\n",
    "#params = [{'params': net.parameters(), 'lr': 3e-3}, {'params': xi, 'lr': 3e-2}]\n",
    "params = [{'params': net.parameters(), 'lr': 1e-3}, {'params': xi, 'lr': 1e-2}]\n",
    "\n",
    "optimizer = Adam(params)\n",
    "scheduler = ExponentialLR(optimizer, .9998)"
   ]
  },
  {
   "cell_type": "code",
   "execution_count": 9,
   "metadata": {
    "pycharm": {
     "is_executing": false
    }
   },
   "outputs": [],
   "source": [
    "def model_identification(features, label, mask, poly_order, deriv_order):\n",
    "    lamb   = 0\n",
    "    tolerance = 1e-6\n",
    "    mask = torch.ones(tot_items, 1)\n",
    "    print('xi', xi)\n",
    "    print('mask:', mask.shape)\n",
    "    lambd  = 1e-5\n",
    "    \n",
    "    L1_loss = []\n",
    "    MSE_loss = []\n",
    "    Reg_loss = []\n",
    "    Total_loss = []\n",
    "\n",
    "    \n",
    "    for epoch in range(epochs):\n",
    "        optimizer.zero_grad()\n",
    "        uhat = net(features)\n",
    "    \n",
    "        if epoch == 1000:\n",
    "            lamb = 1\n",
    "               \n",
    "        dudt, theta = construct_Dictonary_2D(features, uhat, poly_order=2, deriv_order=2)\n",
    "        #print('dudt:', dudt.shape)\n",
    "        dudt_norm = torch.norm(dudt, dim=0)\n",
    "        #print('dudt_norm:', dudt_norm.shape)\n",
    "    \n",
    "    \n",
    "        theta_scaling = (torch.norm(theta, dim=0))\n",
    "        #print('theta_scaling:', theta_scaling.shape)\n",
    "        #Returns a new tensor with a dimension of size one inserted at the specified position. from 9 it will be 9,1\n",
    "        theta_norm = torch.unsqueeze(theta_scaling, dim = 1) \n",
    "        #print('theta_norm:', theta_norm.shape)\n",
    "        xi_normalized = xi * (theta_norm / dudt_norm) \n",
    "        L1 = lambd * torch.sum(torch.abs(xi_normalized[1:, :]))\n",
    "        \n",
    "        l_u   = nn.MSELoss()(uhat, label)\n",
    "        l_reg = lamb * torch.mean((dudt - theta @ xi)**2)\n",
    "        #l_reg = torch.mean((dudt - theta @ xi)**2)\n",
    "\n",
    "        loss = l_u + l_reg + L1\n",
    "        #print('loss', loss)\n",
    "        \n",
    "        L1_loss.append(L1.item())\n",
    "        MSE_loss.append(l_u.item())\n",
    "        Reg_loss.append(l_reg.item())\n",
    "        Total_loss.append(loss.item())\n",
    "        \n",
    "        losses = {\"L1_loss\": L1_loss,\n",
    "                  \"MSE_loss\": MSE_loss,\n",
    "                  \"Reg_loss\": Reg_loss,\n",
    "                  \"Total_loss\": Total_loss}\n",
    "    \n",
    "    \n",
    "\n",
    "        \n",
    "        gradient_loss = torch.max(torch.abs(grad(outputs=loss, inputs=xi, \n",
    "              grad_outputs=torch.ones_like(loss), create_graph=True)[0]) / (theta_norm / dudt_norm))\n",
    "        \n",
    "\n",
    "\n",
    "        loss.backward(retain_graph=True)\n",
    "        optimizer.step()\n",
    "    \n",
    "        #print(\"epoch {}/{}, loss={:.10f}\".format(epoch+1, epochs, loss.item()), end=\"\\r\")\n",
    "        \n",
    "        if epoch % 1000 == 0:\n",
    "            print('loss:', epoch, loss)\n",
    "            if gradient_loss < tolerance:\n",
    "                print('Optimizer converged.')\n",
    "                break\n",
    " \n",
    "    #print('xi_normalized:', xi_normalized)\n",
    "    xi_list = sparse_coeff(mask, xi.detach().numpy())\n",
    "    xi_normalized = sparse_coeff(mask, xi_normalized.detach().numpy())\n",
    "    print('xi_normalized:', xi_normalized)\n",
    "    \n",
    "    sparsity = normalized_xi_threshold( xi_normalized, mode='auto')\n",
    "    print('sparsity:', sparsity)\n",
    "    \n",
    "  \n",
    "    xi_thresholded = np.expand_dims(xi_list[sparsity], axis=1) \n",
    "    print('xi_thresholded:', xi_thresholded)\n",
    "    # Printing current sparse vector \n",
    "    print('Coefficient xi:')\n",
    "    xi_updated = sparse_coeff(sparsity, xi_thresholded)\n",
    "    print(xi_updated)\n",
    "    print('Finished')\n",
    "            \n",
    "            \n",
    "    return xi_updated, losses"
   ]
  },
  {
   "cell_type": "code",
   "execution_count": 10,
   "metadata": {
    "pycharm": {
     "is_executing": true
    }
   },
   "outputs": [
    {
     "name": "stdout",
     "output_type": "stream",
     "text": [
      "xi Parameter containing:\n",
      "tensor([[-0.7581],\n",
      "        [-0.7348],\n",
      "        [-0.2287],\n",
      "        [-0.2592],\n",
      "        [-1.8999],\n",
      "        [ 0.1340],\n",
      "        [ 0.4843],\n",
      "        [ 1.1830],\n",
      "        [ 2.0275],\n",
      "        [-0.8151],\n",
      "        [-1.2735],\n",
      "        [-1.6425],\n",
      "        [-2.4291],\n",
      "        [ 0.8595],\n",
      "        [-1.2770],\n",
      "        [-0.5677],\n",
      "        [-0.5477],\n",
      "        [-0.1964]], requires_grad=True)\n",
      "mask: torch.Size([18, 1])\n",
      "loss: 0 tensor(0.3602, grad_fn=<AddBackward0>)\n",
      "loss: 1000 tensor(0.5177, grad_fn=<AddBackward0>)\n",
      "loss: 2000 tensor(0.0005, grad_fn=<AddBackward0>)\n",
      "loss: 3000 tensor(0.0003, grad_fn=<AddBackward0>)\n",
      "loss: 4000 tensor(0.0002, grad_fn=<AddBackward0>)\n",
      "loss: 5000 tensor(0.0002, grad_fn=<AddBackward0>)\n",
      "loss: 6000 tensor(0.0002, grad_fn=<AddBackward0>)\n",
      "loss: 7000 tensor(0.0001, grad_fn=<AddBackward0>)\n",
      "loss: 8000 tensor(9.3150e-05, grad_fn=<AddBackward0>)\n",
      "loss: 9000 tensor(8.5375e-05, grad_fn=<AddBackward0>)\n",
      "xi_normalized: [[ 2.04178020e-02]\n",
      " [ 3.89319956e-01]\n",
      " [ 6.90273285e-01]\n",
      " [ 3.88258368e-01]\n",
      " [ 3.79143685e-01]\n",
      " [-9.38296132e-03]\n",
      " [ 1.98402908e-02]\n",
      " [ 1.07647873e-04]\n",
      " [-4.65965684e-04]\n",
      " [-2.27106847e-02]\n",
      " [-6.49103640e-06]\n",
      " [ 1.05455387e-02]\n",
      " [-1.20470747e-01]\n",
      " [ 4.44888050e-04]\n",
      " [ 9.57550853e-03]\n",
      " [-2.60329980e-04]\n",
      " [-3.45345251e-02]\n",
      " [-4.25363891e-04]]\n",
      "sparsity: [[False]\n",
      " [ True]\n",
      " [ True]\n",
      " [ True]\n",
      " [ True]\n",
      " [False]\n",
      " [False]\n",
      " [False]\n",
      " [False]\n",
      " [False]\n",
      " [False]\n",
      " [False]\n",
      " [False]\n",
      " [False]\n",
      " [False]\n",
      " [False]\n",
      " [False]\n",
      " [False]]\n",
      "xi_thresholded: [[0.25159892]\n",
      " [0.49696463]\n",
      " [0.46776152]\n",
      " [0.45215395]]\n",
      "Coefficient xi:\n",
      "[[0.        ]\n",
      " [0.25159892]\n",
      " [0.49696463]\n",
      " [0.46776152]\n",
      " [0.45215395]\n",
      " [0.        ]\n",
      " [0.        ]\n",
      " [0.        ]\n",
      " [0.        ]\n",
      " [0.        ]\n",
      " [0.        ]\n",
      " [0.        ]\n",
      " [0.        ]\n",
      " [0.        ]\n",
      " [0.        ]\n",
      " [0.        ]\n",
      " [0.        ]\n",
      " [0.        ]]\n",
      "Finished\n"
     ]
    }
   ],
   "source": [
    "mask = torch.ones(tot_items, 1)\n",
    "uhat = net(X_train)\n",
    "xi_updated, losses = model_identification(X_train, y_train, mask, poly_order=2, deriv_order=2)"
   ]
  },
  {
   "cell_type": "code",
   "execution_count": 11,
   "metadata": {
    "pycharm": {
     "is_executing": true
    }
   },
   "outputs": [
    {
     "name": "stdout",
     "output_type": "stream",
     "text": [
      "torch.Size([2000, 1])\n",
      "Burger equation:\n",
      "u_t = 0.2516u_{x} + 0.4970u_{y} + 0.4678u_{xx} + 0.4522u_{yy}\n"
     ]
    }
   ],
   "source": [
    "print(uhat.shape)\n",
    "pde_Recover(xi_updated, library_coeffs, equation_form='u_t')"
   ]
  },
  {
   "cell_type": "code",
   "execution_count": 12,
   "metadata": {
    "pycharm": {
     "name": "#%%\n"
    }
   },
   "outputs": [
    {
     "data": {
      "image/png": "[encoded data removed]",
      "text/plain": [
       "<Figure size 720x360 with 1 Axes>"
      ]
     },
     "metadata": {
      "needs_background": "light"
     },
     "output_type": "display_data"
    }
   ],
   "source": [
    "Total_loss = losses['Total_loss']\n",
    "#print('Total Loss:', Total_loss)\n",
    "L1_loss = losses['L1_loss']\n",
    "MSE_loss = losses['MSE_loss']\n",
    "Reg_loss = losses['Reg_loss']\n",
    "\n",
    "plt.figure(figsize=(10, 5))\n",
    "#plt.title('Losses against epochs (noise level = 1%, $\\lambda$ = $10^{\\mathrm{-6}}$ and tolerance = $10^{\\mathrm{-6}}$)', fontsize=14)\n",
    "plt.suptitle('Losses against epochs (noise level = 1%, $\\lambda$ = $10^{\\mathrm{-6}}$ and tolerance = $10^{\\mathrm{-6}}$)', fontsize=14)\n",
    "plt.xlabel('Epoch')\n",
    "plt.ylabel('Loss')\n",
    "plt.plot(L1_loss, label=\"L1_loss\")\n",
    "plt.plot(MSE_loss, label=\"MSE_loss\")\n",
    "plt.plot(Reg_loss, label=\"Reg_loss\")\n",
    "plt.plot(Total_loss, label=\"Total_loss\")\n",
    "plt.legend(loc='upper right')\n",
    "plt.show()\n"
   ]
  }
 ],
 "metadata": {
  "kernelspec": {
   "display_name": "Python 3",
   "language": "python",
   "name": "python3"
  },
  "language_info": {
   "codemirror_mode": {
    "name": "ipython",
    "version": 3
   },
   "file_extension": ".py",
   "mimetype": "text/x-python",
   "name": "python",
   "nbconvert_exporter": "python",
   "pygments_lexer": "ipython3",
   "version": "3.7.4"
  },
  "pycharm": {
   "stem_cell": {
    "cell_type": "raw",
    "metadata": {
     "collapsed": false
    },
    "source": []
   }
  }
 },
 "nbformat": 4,
 "nbformat_minor": 1
}
