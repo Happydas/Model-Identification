{
 "cells": [
  {
   "cell_type": "code",
   "execution_count": 1,
   "metadata": {},
   "outputs": [],
   "source": [
    "\n",
    "import os\n",
    "import numpy as np\n",
    "import scipy.io as sio\n",
    "import matplotlib.pyplot as plt\n",
    "import torch\n",
    "import tensorflow as tf\n",
    "\n",
    "from torch.autograd import grad\n",
    "from torch.optim import Adam\n",
    "from torch.utils.data import Dataset, DataLoader\n",
    "from torch.optim.lr_scheduler import ExponentialLR\n",
    "\n",
    "from pdefind import *\n",
    "from Model_Identification.PDE_Equation import pde_matrix_mul, sparse_coeff, normalized_xi_threshold, pde_Recover\n",
    "from Model_Identification.build_Library import construct_Dictonary_2D"
   ]
  },
  {
   "cell_type": "code",
   "execution_count": 2,
   "metadata": {},
   "outputs": [
    {
     "name": "stdout",
     "output_type": "stream",
     "text": [
      "(158661, 3) (158661, 1)\n",
      "X: [[ 3.  -5.  -5. ]\n",
      " [ 3.1 -5.  -5. ]\n",
      " [ 3.2 -5.  -5. ]\n",
      " ...\n",
      " [ 8.8  5.   5. ]\n",
      " [ 8.9  5.   5. ]\n",
      " [ 9.   5.   5. ]]\n",
      "y.shape (158661, 1)\n"
     ]
    }
   ],
   "source": [
    "# Prepare dataset\n",
    "data = sio.loadmat(os.path.join(os.getcwd(), \"../data\", \"Advection_diffusion.mat\"))\n",
    "usol = np.real(data['Expression1'])\n",
    "usol= usol.reshape((51,51,61,4))\n",
    "\n",
    "x = usol[:,:,:,0]\n",
    "y = usol[:,:,:,1]\n",
    "t = usol[:,:,:,2]\n",
    "u = usol[:,:,:,3]\n",
    "\n",
    "X = np.transpose((t.flatten(),x.flatten(), y.flatten()))\n",
    "y = u.reshape((u.size, 1))\n",
    "print(X.shape, y.shape)\n",
    "print('X:', X)\n",
    "\n",
    "print(\"y.shape\", y.shape)"
   ]
  },
  {
   "cell_type": "code",
   "execution_count": 3,
   "metadata": {},
   "outputs": [],
   "source": [
    "# Add noise\n",
    "noise_level = 0.1\n",
    "y = y + noise_level * np.std(y) * np.random.randn(y.size, 1)\n"
   ]
  },
  {
   "cell_type": "code",
   "execution_count": 4,
   "metadata": {},
   "outputs": [
    {
     "name": "stdout",
     "output_type": "stream",
     "text": [
      "X_train shape torch.Size([2000, 3])\n",
      "y_train shape torch.Size([2000, 1])\n"
     ]
    }
   ],
   "source": [
    "\n",
    "idxs = np.random.choice(y.size, 2000, replace=False)\n",
    "\n",
    "X_train = torch.tensor(X[idxs], dtype=torch.float32, requires_grad=True)\n",
    "y_train = torch.tensor(y[idxs], dtype=torch.float32)\n",
    "print(\"X_train shape\", X_train.shape)\n",
    "print(\"y_train shape\", y_train.shape)\n",
    "#print(\"X shape\", X.shape)\n",
    "#print(\"y shape\", y.shape)\n",
    "#print('X_train', X_train)"
   ]
  },
  {
   "cell_type": "code",
   "execution_count": 5,
   "metadata": {},
   "outputs": [
    {
     "name": "stdout",
     "output_type": "stream",
     "text": [
      "PINN(\n",
      "  (net): Sequential(\n",
      "    (0): Linear(in_features=3, out_features=20, bias=True)\n",
      "    (1): Tanh()\n",
      "    (2): Linear(in_features=20, out_features=15, bias=True)\n",
      "    (3): Tanh()\n",
      "    (4): Linear(in_features=15, out_features=10, bias=True)\n",
      "    (5): Tanh()\n",
      "    (6): Linear(in_features=10, out_features=5, bias=True)\n",
      "    (7): Tanh()\n",
      "    (8): Linear(in_features=5, out_features=1, bias=True)\n",
      "  )\n",
      ")\n"
     ]
    }
   ],
   "source": [
    "# Setup Network\n",
    "net = PINN(sizes=[3,20,15,10,5,1], activation=torch.nn.Tanh())\n",
    "print(net)"
   ]
  },
  {
   "cell_type": "code",
   "execution_count": 6,
   "metadata": {},
   "outputs": [
    {
     "name": "stdout",
     "output_type": "stream",
     "text": [
      "theta: torch.Size([2000, 12])\n"
     ]
    }
   ],
   "source": [
    "uhat = net(X_train)\n",
    "dudt, theta = construct_Dictonary_2D(X_train, uhat, poly_order=1, deriv_order=2)\n",
    "#print(dudu.shape)\n",
    "print('theta:', theta.shape)\n",
    "#print('dudu.shape:', dudu.shape)"
   ]
  },
  {
   "cell_type": "code",
   "execution_count": 7,
   "metadata": {},
   "outputs": [
    {
     "name": "stdout",
     "output_type": "stream",
     "text": [
      "library_coeffs: ['1', 'u_{x}', 'u_{y}', 'u_{xx}', 'u_{yy}', 'u_{xy}', 'u', 'uu_{x}', 'uu_{y}', 'uu_{xx}', 'uu_{yy}', 'uu_{xy}']\n",
      "tot_items: 12\n"
     ]
    }
   ],
   "source": [
    "polynm = ['1', 'u']\n",
    "spa_der = ['1', 'u_{x}', 'u_{y}','u_{xx}', 'u_{yy}','u_{xy}']\n",
    "library_coeffs = pde_matrix_mul(polynm, spa_der)\n",
    "print('library_coeffs:', library_coeffs)\n",
    "\n",
    "tot_items = len(library_coeffs)\n",
    "print('tot_items:', tot_items)\n",
    "\n",
    "epochs = 43000\n",
    "#xi = nn.Parameter(torch.randn((1, 1), requires_grad=True, device=\"cpu\", dtype=torch.float32))\n",
    "xi = nn.Parameter(torch.randn((tot_items, 1), requires_grad=True, device=\"cpu\", dtype=torch.float32))\n",
    "#xi = torch.tensor([[0.1], [-1]])\n",
    "#print(xi)\n",
    "#params = [{'params': net.parameters(), 'lr': 1e-3}]\n",
    "params = [{'params': net.parameters(), 'lr': 3e-3}, {'params': xi, 'lr': 3e-2}]\n",
    "\n",
    "optimizer = Adam(params)\n",
    "scheduler = ExponentialLR(optimizer, .9998)"
   ]
  },
  {
   "cell_type": "code",
   "execution_count": 8,
   "metadata": {},
   "outputs": [],
   "source": [
    "def model_identification(features, label, mask, poly_order, deriv_order):\n",
    "    lamb   = 0\n",
    "    tolerance = 1e-6\n",
    "    mask = torch.ones(tot_items, 1)\n",
    "    print('xi', xi)\n",
    "    print('mask:', mask.shape)\n",
    "    lambd  = 1e-5\n",
    "\n",
    "    \n",
    "    for epoch in range(epochs):\n",
    "        optimizer.zero_grad()\n",
    "        uhat = net(features)\n",
    "    \n",
    "        if epoch == 1000:\n",
    "            lamb = 1\n",
    "               \n",
    "        dudt, theta = construct_Dictonary_2D(features, uhat, poly_order=1, deriv_order=2)\n",
    "        #print('dudt:', dudt.shape)\n",
    "        dudt_norm = torch.norm(dudt, dim=0)\n",
    "        #print('dudt_norm:', dudt_norm.shape)\n",
    "    \n",
    "    \n",
    "        theta_scaling = (torch.norm(theta, dim=0))\n",
    "        #print('theta_scaling:', theta_scaling.shape)\n",
    "        #Returns a new tensor with a dimension of size one inserted at the specified position. from 9 it will be 9,1\n",
    "        theta_norm = torch.unsqueeze(theta_scaling, dim = 1) \n",
    "        #print('theta_norm:', theta_norm.shape)\n",
    "        xi_normalized = xi * (theta_norm / dudt_norm) \n",
    "        L1 = lambd * torch.sum(torch.abs(xi_normalized[1:, :]))\n",
    "        \n",
    "        l_u   = nn.MSELoss()(uhat, label)\n",
    "        #l_reg = lamb * torch.mean((dudt - theta @ xi)**2)\n",
    "        l_reg = torch.mean((dudt - theta @ xi)**2)\n",
    "\n",
    "        loss = l_u + l_reg + L1\n",
    "        #print('loss', loss)\n",
    "    \n",
    "\n",
    "        \n",
    "        gradient_loss = torch.max(torch.abs(grad(outputs=loss, inputs=xi, \n",
    "              grad_outputs=torch.ones_like(loss), create_graph=True)[0]) / (theta_norm / dudt_norm))\n",
    "        \n",
    "\n",
    "\n",
    "        loss.backward(retain_graph=True)\n",
    "        optimizer.step()\n",
    "    \n",
    "        #print(\"epoch {}/{}, loss={:.10f}\".format(epoch+1, epochs, loss.item()), end=\"\\r\")\n",
    "        \n",
    "        if epoch % 1000 == 0:\n",
    "            print('loss:', epoch, loss)\n",
    "            if gradient_loss < tolerance:\n",
    "                print('Optimizer converged.')\n",
    "                break\n",
    " \n",
    "    #print('xi_normalized:', xi_normalized)\n",
    "    xi_list = sparse_coeff(mask, xi.detach().numpy())\n",
    "    xi_normalized = sparse_coeff(mask, xi_normalized.detach().numpy())\n",
    "    print('xi_normalized:', xi_normalized)\n",
    "    \n",
    "    sparsity = normalized_xi_threshold( xi_normalized, mode='auto')\n",
    "    print('sparsity:', sparsity)\n",
    "    \n",
    "  \n",
    "    xi_thresholded = np.expand_dims(xi_list[sparsity], axis=1) \n",
    "    print('xi_thresholded:', xi_thresholded)\n",
    "    # Printing current sparse vector \n",
    "    print('Coefficient xi:')\n",
    "    xi_updated = sparse_coeff(sparsity, xi_thresholded)\n",
    "    print(xi_updated)\n",
    "    print('Finished')\n",
    "            \n",
    "            \n",
    "    return xi_updated"
   ]
  },
  {
   "cell_type": "code",
   "execution_count": 9,
   "metadata": {},
   "outputs": [
    {
     "name": "stdout",
     "output_type": "stream",
     "text": [
      "xi Parameter containing:\n",
      "tensor([[ 2.0126],\n",
      "        [ 0.3084],\n",
      "        [-1.1535],\n",
      "        [-0.2543],\n",
      "        [-0.1630],\n",
      "        [-1.6369],\n",
      "        [ 0.2915],\n",
      "        [-0.5541],\n",
      "        [ 1.1191],\n",
      "        [ 0.6102],\n",
      "        [-2.6056],\n",
      "        [-1.2779]], requires_grad=True)\n",
      "mask: torch.Size([12, 1])\n",
      "loss: 0 tensor(5.3048, grad_fn=<AddBackward0>)\n",
      "loss: 1000 tensor(0.0051, grad_fn=<AddBackward0>)\n",
      "loss: 2000 tensor(0.0037, grad_fn=<AddBackward0>)\n",
      "loss: 3000 tensor(0.0035, grad_fn=<AddBackward0>)\n",
      "loss: 4000 tensor(0.0034, grad_fn=<AddBackward0>)\n",
      "loss: 5000 tensor(0.0033, grad_fn=<AddBackward0>)\n",
      "loss: 6000 tensor(0.0033, grad_fn=<AddBackward0>)\n",
      "loss: 7000 tensor(0.0032, grad_fn=<AddBackward0>)\n",
      "loss: 8000 tensor(0.0032, grad_fn=<AddBackward0>)\n",
      "loss: 9000 tensor(0.0032, grad_fn=<AddBackward0>)\n",
      "loss: 10000 tensor(0.0032, grad_fn=<AddBackward0>)\n",
      "loss: 11000 tensor(0.0031, grad_fn=<AddBackward0>)\n",
      "loss: 12000 tensor(0.0031, grad_fn=<AddBackward0>)\n",
      "loss: 13000 tensor(0.0038, grad_fn=<AddBackward0>)\n",
      "loss: 14000 tensor(0.0031, grad_fn=<AddBackward0>)\n",
      "loss: 15000 tensor(0.0031, grad_fn=<AddBackward0>)\n",
      "loss: 16000 tensor(0.0031, grad_fn=<AddBackward0>)\n",
      "loss: 17000 tensor(0.0031, grad_fn=<AddBackward0>)\n",
      "loss: 18000 tensor(0.0030, grad_fn=<AddBackward0>)\n",
      "loss: 19000 tensor(0.0030, grad_fn=<AddBackward0>)\n",
      "loss: 20000 tensor(0.0032, grad_fn=<AddBackward0>)\n",
      "loss: 21000 tensor(0.0030, grad_fn=<AddBackward0>)\n",
      "loss: 22000 tensor(0.0030, grad_fn=<AddBackward0>)\n",
      "loss: 23000 tensor(0.0030, grad_fn=<AddBackward0>)\n",
      "loss: 24000 tensor(0.0030, grad_fn=<AddBackward0>)\n",
      "loss: 25000 tensor(0.0030, grad_fn=<AddBackward0>)\n",
      "loss: 26000 tensor(0.0030, grad_fn=<AddBackward0>)\n",
      "loss: 27000 tensor(0.0030, grad_fn=<AddBackward0>)\n",
      "loss: 28000 tensor(0.0029, grad_fn=<AddBackward0>)\n",
      "loss: 29000 tensor(0.0029, grad_fn=<AddBackward0>)\n",
      "loss: 30000 tensor(0.0029, grad_fn=<AddBackward0>)\n",
      "loss: 31000 tensor(0.0029, grad_fn=<AddBackward0>)\n",
      "loss: 32000 tensor(0.0029, grad_fn=<AddBackward0>)\n",
      "loss: 33000 tensor(0.0029, grad_fn=<AddBackward0>)\n",
      "loss: 34000 tensor(0.0028, grad_fn=<AddBackward0>)\n",
      "loss: 35000 tensor(0.0028, grad_fn=<AddBackward0>)\n",
      "loss: 36000 tensor(0.0028, grad_fn=<AddBackward0>)\n",
      "loss: 37000 tensor(0.0028, grad_fn=<AddBackward0>)\n",
      "loss: 38000 tensor(0.0028, grad_fn=<AddBackward0>)\n",
      "loss: 39000 tensor(0.0028, grad_fn=<AddBackward0>)\n",
      "loss: 40000 tensor(0.0028, grad_fn=<AddBackward0>)\n",
      "loss: 41000 tensor(0.0032, grad_fn=<AddBackward0>)\n",
      "loss: 42000 tensor(0.0028, grad_fn=<AddBackward0>)\n",
      "xi_normalized: [[-0.01871557]\n",
      " [ 0.00256575]\n",
      " [ 0.88627499]\n",
      " [ 0.32761559]\n",
      " [ 0.73308754]\n",
      " [-0.26085949]\n",
      " [ 0.03060896]\n",
      " [ 0.02931831]\n",
      " [-0.06607281]\n",
      " [ 0.16965005]\n",
      " [-0.27216581]\n",
      " [ 0.0876112 ]]\n",
      "sparsity: [[False]\n",
      " [False]\n",
      " [ True]\n",
      " [False]\n",
      " [ True]\n",
      " [False]\n",
      " [False]\n",
      " [False]\n",
      " [False]\n",
      " [False]\n",
      " [False]\n",
      " [False]]\n",
      "xi_thresholded: [[0.60697144]\n",
      " [0.79899287]]\n",
      "Coefficient xi:\n",
      "[[0.        ]\n",
      " [0.        ]\n",
      " [0.60697144]\n",
      " [0.        ]\n",
      " [0.79899287]\n",
      " [0.        ]\n",
      " [0.        ]\n",
      " [0.        ]\n",
      " [0.        ]\n",
      " [0.        ]\n",
      " [0.        ]\n",
      " [0.        ]]\n",
      "Finished\n"
     ]
    }
   ],
   "source": [
    "mask = torch.ones(tot_items, 1)\n",
    "uhat = net(X_train)\n",
    "xi_updated= model_identification(X_train, y_train, mask, poly_order=1, deriv_order=2)"
   ]
  },
  {
   "cell_type": "code",
   "execution_count": 10,
   "metadata": {},
   "outputs": [
    {
     "name": "stdout",
     "output_type": "stream",
     "text": [
      "torch.Size([2000, 1])\n",
      "Burger equation:\n"
     ]
    },
    {
     "data": {
      "text/plain": [
       "'u_t = 0.6070u_{y} + 0.7990u_{yy}'"
      ]
     },
     "execution_count": 10,
     "metadata": {},
     "output_type": "execute_result"
    }
   ],
   "source": [
    "print(uhat.shape)\n",
    "pde_Recover(xi_updated, library_coeffs, equation_form='u_t')"
   ]
  },
  {
   "cell_type": "code",
   "execution_count": null,
   "metadata": {},
   "outputs": [],
   "source": []
  }
 ],
 "metadata": {
  "kernelspec": {
   "display_name": "Python 3",
   "language": "python",
   "name": "python3"
  },
  "language_info": {
   "codemirror_mode": {
    "name": "ipython",
    "version": 3
   },
   "file_extension": ".py",
   "mimetype": "text/x-python",
   "name": "python",
   "nbconvert_exporter": "python",
   "pygments_lexer": "ipython3",
   "version": "3.7.4rc1"
  }
 },
 "nbformat": 4,
 "nbformat_minor": 1
}
