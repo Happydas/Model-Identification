{
 "cells": [
  {
   "cell_type": "code",
   "execution_count": 1,
   "metadata": {
    "pycharm": {
     "is_executing": false
    }
   },
   "outputs": [],
   "source": [
    "import os\n",
    "import numpy as np\n",
    "import scipy.io as sio\n",
    "import matplotlib.pyplot as plt\n",
    "import torch\n",
    "import tensorflow as tf\n",
    "\n",
    "from torch.autograd import grad\n",
    "from torch.optim import Adam\n",
    "from torch.utils.data import Dataset, DataLoader\n",
    "from torch.optim.lr_scheduler import ExponentialLR\n",
    "\n",
    "from pdefind import *\n",
    "from Model_Identification.PDE_Equation import pde_matrix_mul, sparse_coeff, normalized_xi_threshold, pde_Recover\n",
    "from Model_Identification.build_Library import construct_Dictonary_2D\n"
   ]
  },
  {
   "cell_type": "code",
   "execution_count": 2,
   "metadata": {},
   "outputs": [
    {
     "name": "stdout",
     "output_type": "stream",
     "text": [
      "(158661, 3) (158661, 1)\n",
      "X: [[ 3.  -5.  -5. ]\n",
      " [ 3.1 -5.  -5. ]\n",
      " [ 3.2 -5.  -5. ]\n",
      " ...\n",
      " [ 8.8  5.   5. ]\n",
      " [ 8.9  5.   5. ]\n",
      " [ 9.   5.   5. ]]\n"
     ]
    }
   ],
   "source": [
    "# Prepare dataset\n",
    "data = sio.loadmat(os.path.join(os.getcwd(), \"../data\", \"Advection_diffusion.mat\"))\n",
    "usol = np.real(data['Expression1'])\n",
    "usol= usol.reshape((51,51,61,4))\n",
    "\n",
    "x = usol[:,:,:,0]\n",
    "y = usol[:,:,:,1]\n",
    "t = usol[:,:,:,2]\n",
    "u = usol[:,:,:,3]\n",
    "\n",
    "X = np.transpose((t.flatten(),x.flatten(), y.flatten()))\n",
    "y = u.reshape((u.size, 1))\n",
    "print(X.shape, y.shape)\n",
    "print('X:', X)"
   ]
  },
  {
   "cell_type": "code",
   "execution_count": 3,
   "metadata": {},
   "outputs": [],
   "source": [
    "# Add noise\n",
    "noise_level = 0.1\n",
    "y = y + noise_level * np.std(y) * np.random.randn(y.size, 1)\n"
   ]
  },
  {
   "cell_type": "code",
   "execution_count": 4,
   "metadata": {},
   "outputs": [
    {
     "name": "stdout",
     "output_type": "stream",
     "text": [
      "X_train shape torch.Size([2000, 3])\n",
      "y_train shape torch.Size([2000, 1])\n"
     ]
    }
   ],
   "source": [
    "idxs = np.random.choice(y.size, 2000, replace=False)\n",
    "\n",
    "X_train = torch.tensor(X[idxs], dtype=torch.float32, requires_grad=True)\n",
    "y_train = torch.tensor(y[idxs], dtype=torch.float32)\n",
    "print(\"X_train shape\", X_train.shape)\n",
    "print(\"y_train shape\", y_train.shape)"
   ]
  },
  {
   "cell_type": "code",
   "execution_count": 5,
   "metadata": {},
   "outputs": [
    {
     "name": "stdout",
     "output_type": "stream",
     "text": [
      "PINN(\n",
      "  (net): Sequential(\n",
      "    (0): Linear(in_features=3, out_features=20, bias=True)\n",
      "    (1): Tanh()\n",
      "    (2): Linear(in_features=20, out_features=20, bias=True)\n",
      "    (3): Tanh()\n",
      "    (4): Linear(in_features=20, out_features=18, bias=True)\n",
      "    (5): Tanh()\n",
      "    (6): Linear(in_features=18, out_features=15, bias=True)\n",
      "    (7): Tanh()\n",
      "    (8): Linear(in_features=15, out_features=15, bias=True)\n",
      "    (9): Tanh()\n",
      "    (10): Linear(in_features=15, out_features=1, bias=True)\n",
      "  )\n",
      ")\n"
     ]
    }
   ],
   "source": [
    "# Setup Network\n",
    "net = PINN(sizes=[3,20,20,18,15,15,1], activation=torch.nn.Tanh())\n",
    "print(net)"
   ]
  },
  {
   "cell_type": "code",
   "execution_count": 6,
   "metadata": {},
   "outputs": [],
   "source": [
    "#Construct Library\n",
    "def build_library_2D(data, uhat, poly_order, deriv_order):\n",
    "    # build polynomials\n",
    "    poly = torch.ones_like(uhat)\n",
    "    \n",
    "    # concatinate different orders\n",
    "    for o in np.arange(1, poly_order+1):\n",
    "        poly_o = poly[:,o-1:o]*uhat\n",
    "        poly = torch.cat((poly, poly_o), dim=1)\n",
    "        #print('poly.shape', poly.shape)\n",
    "        \n",
    "    # build derivatives\n",
    "    # returns gradient of uhat w.r.t. data (id0=spatial, id1=temporal)\n",
    "    du = grad(outputs=uhat, inputs=data, \n",
    "              grad_outputs=torch.ones_like(uhat), create_graph=True)[0]\n",
    "    \n",
    "    dudt = du[:, 0:1]\n",
    "    dudx = du[:, 1:2]\n",
    "    dudy = du[:, 2:3]\n",
    "    dudu = grad(outputs=dudx, inputs=data, \n",
    "              grad_outputs=torch.ones_like(uhat), create_graph=True)[0]\n",
    "    dudxx = dudu[:, 1:2]\n",
    "    dudxy = dudu[:, 2:3]\n",
    "    dudyy = grad(outputs=dudy, inputs=data, \n",
    "              grad_outputs=torch.ones_like(dudxx), create_graph=True)[0]\n",
    "    \n",
    "    dudyy = dudyy[:, 2:3]\n",
    "   \n",
    "    #dudu = torch.cat((torch.ones_like(dudx), dudx, dudy, dudxx, dudyy, dudxy), dim=1)\n",
    "    #dudu = torch.cat((torch.ones_like(dudx), dudx, dudy, dudxx, dudyy[:, 2:3], dudxy), dim=1)\n",
    "\n",
    "    for o in np.arange(1, deriv_order):\n",
    "        #du2 = grad(outputs=dudu[:,o:o+1], inputs=data, \n",
    "                  #grad_outputs=torch.ones_like(uhat), create_graph=True)[0]\n",
    "        dudu = torch.cat((torch.ones_like(dudx), dudx, dudy, dudxx, dudyy, dudxy), dim=1)\n",
    "\n",
    "\n",
    "    \n",
    "    # build all possible combinations of poly and dudx vectors\n",
    "    theta = None\n",
    "    for i in range(poly_order+1):\n",
    "        #print('i:', i)\n",
    "        for j in range(5+1):\n",
    "            #print('j:', j)\n",
    "            comb = poly[:,i:i+1] * dudu[:,j:j+1]\n",
    "            \n",
    "            if theta is None:\n",
    "                theta = comb\n",
    "            else:\n",
    "                theta = torch.cat((theta, comb), dim=1)\n",
    "                \n",
    "    return dudt, theta"
   ]
  },
  {
   "cell_type": "code",
   "execution_count": 7,
   "metadata": {},
   "outputs": [],
   "source": [
    "#uhat = net(X_train)\n",
    "#dudt, theta = build_library_2D(X_train, uhat, poly_order=1, deriv_order=2)\n",
    "#print(dudu.shape)\n",
    "#print('theta:', theta.shape)\n",
    "#print('dudu.shape:', dudu.shape)"
   ]
  },
  {
   "cell_type": "code",
   "execution_count": 8,
   "metadata": {},
   "outputs": [
    {
     "name": "stdout",
     "output_type": "stream",
     "text": [
      "library_coeffs: ['1', 'u_{x}', 'u_{y}', 'u_{xx}', 'u_{yy}', 'u_{xy}', 'u', 'uu_{x}', 'uu_{y}', 'uu_{xx}', 'uu_{yy}', 'uu_{xy}']\n",
      "tot_items: 12\n"
     ]
    }
   ],
   "source": [
    "polynm = ['1', 'u']\n",
    "spa_der = ['1', 'u_{x}', 'u_{y}','u_{xx}', 'u_{yy}','u_{xy}']\n",
    "library_coeffs = pde_matrix_mul(polynm, spa_der)\n",
    "print('library_coeffs:', library_coeffs)\n",
    "\n",
    "tot_items = len(library_coeffs)\n",
    "print('tot_items:', tot_items)\n",
    "\n",
    "epochs = 20000\n",
    "#xi = nn.Parameter(torch.randn((1, 1), requires_grad=True, device=\"cpu\", dtype=torch.float32))\n",
    "xi = nn.Parameter(torch.randn((tot_items, 1), requires_grad=True, device=\"cpu\", dtype=torch.float32))\n",
    "#xi = torch.tensor([[0.1], [-1]])\n",
    "#print(xi)\n",
    "#params = [{'params': net.parameters(), 'lr': 1e-3}]\n",
    "params = [{'params': net.parameters(), 'lr': 3e-3}, {'params': xi, 'lr': 3e-2}]\n",
    "\n",
    "optimizer = Adam(params)\n",
    "scheduler = ExponentialLR(optimizer, .9998)"
   ]
  },
  {
   "cell_type": "code",
   "execution_count": 9,
   "metadata": {},
   "outputs": [],
   "source": [
    "def model_identification(features, label, mask, poly_order, deriv_order):\n",
    "    lamb   = 0\n",
    "    tolerance = 1e-6\n",
    "    mask = torch.ones(tot_items, 1)\n",
    "    print('xi', xi)\n",
    "    print('mask:', mask.shape)\n",
    "    lambd  = 1e-5\n",
    "\n",
    "    \n",
    "    for epoch in range(epochs):\n",
    "        optimizer.zero_grad()\n",
    "        uhat = net(features)\n",
    "    \n",
    "        if epoch == 1000:\n",
    "            lamb = 1\n",
    "               \n",
    "        dudt, theta = build_library_2D(features, uhat, poly_order=1, deriv_order=2)\n",
    "        #print('dudt:', dudt.shape)\n",
    "        dudt_norm = torch.norm(dudt, dim=0)\n",
    "        #print('dudt_norm:', dudt_norm.shape)\n",
    "    \n",
    "    \n",
    "        theta_scaling = (torch.norm(theta, dim=0))\n",
    "        #print('theta_scaling:', theta_scaling.shape)\n",
    "        #Returns a new tensor with a dimension of size one inserted at the specified position. from 9 it will be 9,1\n",
    "        theta_norm = torch.unsqueeze(theta_scaling, dim = 1) \n",
    "        #print('theta_norm:', theta_norm.shape)\n",
    "        xi_normalized = xi * (theta_norm / dudt_norm) \n",
    "        L1 = lambd * torch.sum(torch.abs(xi_normalized[1:, :]))\n",
    "        \n",
    "        l_u   = nn.MSELoss()(uhat, label)\n",
    "        #l_reg = lamb * torch.mean((dudt - theta @ xi)**2)\n",
    "        l_reg = torch.mean((dudt - theta @ xi)**2)\n",
    "\n",
    "        loss = l_u + l_reg + L1\n",
    "        #print('loss', loss)\n",
    "    \n",
    "\n",
    "        \n",
    "        gradient_loss = torch.max(torch.abs(grad(outputs=loss, inputs=xi, \n",
    "              grad_outputs=torch.ones_like(loss), create_graph=True)[0]) / (theta_norm / dudt_norm))\n",
    "        \n",
    "\n",
    "\n",
    "        loss.backward(retain_graph=True)\n",
    "        optimizer.step()\n",
    "    \n",
    "        #print(\"epoch {}/{}, loss={:.10f}\".format(epoch+1, epochs, loss.item()), end=\"\\r\")\n",
    "        \n",
    "        if epoch % 1000 == 0:\n",
    "            print('loss:', epoch, loss)\n",
    "            if gradient_loss < tolerance:\n",
    "                print('Optimizer converged.')\n",
    "                #break\n",
    " \n",
    "    #print('xi_normalized:', xi_normalized)\n",
    "    xi_list = sparse_coeff(mask, xi.detach().numpy())\n",
    "    xi_normalized = sparse_coeff(mask, xi_normalized.detach().numpy())\n",
    "    print('xi_normalized:', xi_normalized)\n",
    "    \n",
    "    sparsity = normalized_xi_threshold( xi_normalized, mode='auto')\n",
    "    print('sparsity:', sparsity)\n",
    "    \n",
    "  \n",
    "    xi_thresholded = np.expand_dims(xi_list[sparsity], axis=1) \n",
    "    print('xi_thresholded:', xi_thresholded)\n",
    "    # Printing current sparse vector \n",
    "    print('Coefficient xi:')\n",
    "    xi_updated = sparse_coeff(sparsity, xi_thresholded)\n",
    "    print(xi_updated)\n",
    "    print('Finished')\n",
    "            \n",
    "            \n",
    "    return xi_updated"
   ]
  },
  {
   "cell_type": "code",
   "execution_count": 10,
   "metadata": {},
   "outputs": [
    {
     "name": "stdout",
     "output_type": "stream",
     "text": [
      "xi Parameter containing:\n",
      "tensor([[ 2.2861],\n",
      "        [ 2.3542],\n",
      "        [ 0.2695],\n",
      "        [-0.6308],\n",
      "        [ 0.8943],\n",
      "        [ 0.5525],\n",
      "        [ 0.4789],\n",
      "        [ 0.6280],\n",
      "        [ 0.7554],\n",
      "        [-0.2014],\n",
      "        [-1.1318],\n",
      "        [-0.1500]], requires_grad=True)\n",
      "mask: torch.Size([12, 1])\n",
      "loss: 0 tensor(5.9133, grad_fn=<AddBackward0>)\n",
      "loss: 1000 tensor(0.0116, grad_fn=<AddBackward0>)\n",
      "loss: 2000 tensor(0.0029, grad_fn=<AddBackward0>)\n",
      "loss: 3000 tensor(0.0025, grad_fn=<AddBackward0>)\n",
      "loss: 4000 tensor(0.0026, grad_fn=<AddBackward0>)\n",
      "loss: 5000 tensor(0.0023, grad_fn=<AddBackward0>)\n",
      "loss: 6000 tensor(0.0023, grad_fn=<AddBackward0>)\n",
      "loss: 7000 tensor(0.0023, grad_fn=<AddBackward0>)\n",
      "Optimizer converged.\n",
      "loss: 8000 tensor(0.0022, grad_fn=<AddBackward0>)\n",
      "Optimizer converged.\n",
      "loss: 9000 tensor(0.0024, grad_fn=<AddBackward0>)\n",
      "loss: 10000 tensor(0.0022, grad_fn=<AddBackward0>)\n",
      "loss: 11000 tensor(0.0022, grad_fn=<AddBackward0>)\n",
      "loss: 12000 tensor(0.0022, grad_fn=<AddBackward0>)\n",
      "loss: 13000 tensor(0.0022, grad_fn=<AddBackward0>)\n",
      "loss: 14000 tensor(0.0022, grad_fn=<AddBackward0>)\n",
      "loss: 15000 tensor(0.0022, grad_fn=<AddBackward0>)\n",
      "loss: 16000 tensor(0.0022, grad_fn=<AddBackward0>)\n",
      "loss: 17000 tensor(0.0023, grad_fn=<AddBackward0>)\n",
      "loss: 18000 tensor(0.0022, grad_fn=<AddBackward0>)\n",
      "loss: 19000 tensor(0.0022, grad_fn=<AddBackward0>)\n",
      "xi_normalized: [[ 2.07436774e-02]\n",
      " [ 3.53717357e-01]\n",
      " [ 6.40954375e-01]\n",
      " [ 3.65533233e-01]\n",
      " [ 3.64392549e-01]\n",
      " [ 1.02067817e-04]\n",
      " [-5.24603352e-02]\n",
      " [-7.55901157e-04]\n",
      " [ 1.49753888e-03]\n",
      " [-3.18896701e-03]\n",
      " [ 4.45830356e-03]\n",
      " [ 9.59256385e-03]]\n",
      "sparsity: [[False]\n",
      " [ True]\n",
      " [ True]\n",
      " [ True]\n",
      " [ True]\n",
      " [False]\n",
      " [False]\n",
      " [False]\n",
      " [False]\n",
      " [False]\n",
      " [False]\n",
      " [False]]\n",
      "xi_thresholded: [[0.24435186]\n",
      " [0.48331332]\n",
      " [0.4797827 ]\n",
      " [0.45516965]]\n",
      "Coefficient xi:\n",
      "[[0.        ]\n",
      " [0.24435186]\n",
      " [0.48331332]\n",
      " [0.4797827 ]\n",
      " [0.45516965]\n",
      " [0.        ]\n",
      " [0.        ]\n",
      " [0.        ]\n",
      " [0.        ]\n",
      " [0.        ]\n",
      " [0.        ]\n",
      " [0.        ]]\n",
      "Finished\n"
     ]
    }
   ],
   "source": [
    "mask = torch.ones(tot_items, 1)\n",
    "uhat = net(X_train)\n",
    "xi_updated= model_identification(X_train, y_train, mask, poly_order=1, deriv_order=2)"
   ]
  },
  {
   "cell_type": "code",
   "execution_count": 11,
   "metadata": {},
   "outputs": [
    {
     "name": "stdout",
     "output_type": "stream",
     "text": [
      "torch.Size([2000, 1])\n",
      "Burger equation:\n"
     ]
    },
    {
     "data": {
      "text/plain": [
       "'u_t = 0.2444u_{x} + 0.4833u_{y} + 0.4798u_{xx} + 0.4552u_{yy}'"
      ]
     },
     "execution_count": 11,
     "metadata": {},
     "output_type": "execute_result"
    }
   ],
   "source": [
    "print(uhat.shape)\n",
    "pde_Recover(xi_updated, library_coeffs, equation_form='u_t')"
   ]
  },
  {
   "cell_type": "code",
   "execution_count": null,
   "metadata": {},
   "outputs": [],
   "source": []
  }
 ],
 "metadata": {
  "kernelspec": {
   "display_name": "Python 3",
   "language": "python",
   "name": "python3"
  },
  "language_info": {
   "codemirror_mode": {
    "name": "ipython",
    "version": 3
   },
   "file_extension": ".py",
   "mimetype": "text/x-python",
   "name": "python",
   "nbconvert_exporter": "python",
   "pygments_lexer": "ipython3",
   "version": "3.7.4rc1"
  }
 },
 "nbformat": 4,
 "nbformat_minor": 1
}
